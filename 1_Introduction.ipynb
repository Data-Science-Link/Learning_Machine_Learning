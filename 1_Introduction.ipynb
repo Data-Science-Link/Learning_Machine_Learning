{
 "cells": [
  {
   "attachments": {},
   "cell_type": "markdown",
   "metadata": {},
   "source": [
    "## Learning Machine Learning\n",
    "\n",
    "This repository provides a comprehensive introduction to the practical implementation of Machine Learning. I wanted to provide a one-stop code shop for the most common Machine Learning topics. \n",
    "\n",
    "If you know what a repo is and are here it probably means that you are not in need of the following introduction. For posterity, I will give it anyway. According to DeepAI 'Machine learning is a field of computer science that aims to teach computers how to learn and act without being explicitly programmed.' Does basic machine learning pose the same threat to humanity as the military supercomputer in the 1984 'War Games' film? No. \n",
    "\n",
    "The flashy title of Machine Learning can be slapped onto a simple linear regression model or K nearest neighbors. In simple linear regression, the machine is 'learning' how to minimize error and comes up with an equation of a line. In K nearest neighbors, the machine is 'learning' that a certain animal is a dog because its height and weight are similar to the heights and weights of other dogs near to it on the graph. What is novel about machine learning is that code can be flexible and not explicit. In the past there were explicit if else statements. If the animal is less than 2 feet: it is a cat... else: it is a dog. This may work well for adult animals but what if you throw puppies into the mix. This explicit code is in-flexible. The simple linear regression model is flexible in that if you feed in new data it will minimize prediction error on that data. The K-nearest neighbor model is flexible in that if you feed in labeled animal point that include puppies, the model can predict a puppy to be a dog rather than a cat. \n",
    "\n",
    "Machine learning is a powerful and oftentimes complex tool, but it does not need to be branded in mystique and be approached with fear. Machine learning is a modern day tool for any data scientist, researcher, or business to boost predictive and classification value (\"Which machine learning model allows me to predict Boston real estate prices with precision?\", \"How can I classify galaxies in an automated fasion by leveraging ML and inordinate amounts of telescope imagery?\", \"How do I recommend the correct movie or product to my customer?\"). Machine learning should be useful, not scary.\n",
    "\n",
    "Throughout the rest of the show we will focus on:\n",
    "    - Overfitting and Cross-Validation\n",
    "    - Linear and Regularized Regression (Linear, Multi-linear, Ridge, Lasso, Elastic)\n",
    "    - Interpretable Non-linear Regression (Tree-based)\n",
    "    - Less Interpretable Non-linear Regression (KNN, Kernel SVM)"
   ]
  },
  {
   "cell_type": "code",
   "execution_count": null,
   "metadata": {},
   "outputs": [],
   "source": []
  }
 ],
 "metadata": {
  "kernelspec": {
   "display_name": "Python 3",
   "language": "python",
   "name": "python3"
  },
  "language_info": {
   "codemirror_mode": {
    "name": "ipython",
    "version": 3
   },
   "file_extension": ".py",
   "mimetype": "text/x-python",
   "name": "python",
   "nbconvert_exporter": "python",
   "pygments_lexer": "ipython3",
   "version": "3.7.6"
  }
 },
 "nbformat": 4,
 "nbformat_minor": 4
}
